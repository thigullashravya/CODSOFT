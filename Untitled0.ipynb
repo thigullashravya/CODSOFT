{
  "nbformat": 4,
  "nbformat_minor": 0,
  "metadata": {
    "colab": {
      "provenance": [],
      "authorship_tag": "ABX9TyNs3rEtQJd48mbAVXnzkpgw",
      "include_colab_link": true
    },
    "kernelspec": {
      "name": "python3",
      "display_name": "Python 3"
    },
    "language_info": {
      "name": "python"
    }
  },
  "cells": [
    {
      "cell_type": "markdown",
      "metadata": {
        "id": "view-in-github",
        "colab_type": "text"
      },
      "source": [
        "<a href=\"https://colab.research.google.com/github/thigullashravya/CODSOFT/blob/main/Untitled0.ipynb\" target=\"_parent\"><img src=\"https://colab.research.google.com/assets/colab-badge.svg\" alt=\"Open In Colab\"/></a>"
      ]
    },
    {
      "cell_type": "code",
      "execution_count": 4,
      "metadata": {
        "colab": {
          "base_uri": "https://localhost:8080/"
        },
        "id": "vKU-Iq0EUjlj",
        "outputId": "55bdcf45-6b76-4159-c950-cfc0edac06b8"
      },
      "outputs": [
        {
          "output_type": "stream",
          "name": "stdout",
          "text": [
            "the uncondition probability 0.4\n",
            "the probabilty of medrisk 0.3\n",
            "the probability of single and medrisk 0.2\n",
            "the probability of single given medrisk 0.6666666666666667\n"
          ]
        }
      ],
      "source": [
        "total_record=10\n",
        "golf=4\n",
        "print(\"the uncondition probability\",golf/total_record)\n",
        "med_risk=3\n",
        "probability_medrisk=3/10\n",
        "print(\"the probabilty of medrisk\",probability_medrisk)\n",
        "no_single_medrisk=2\n",
        "probability_single_and_medrisk=no_single_medrisk/total_record\n",
        "print(\"the probability of single and medrisk\",probability_single_and_medrisk)\n",
        "print(\"the probability of single given medrisk\",probability_single_and_medrisk/probability_medrisk)"
      ]
    }
  ]
}